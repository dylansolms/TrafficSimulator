{
 "cells": [
  {
   "cell_type": "markdown",
   "metadata": {},
   "source": [
    "# TUTORIAL 1: heaps, sources, vehicles, lanes and record objects\n",
    "------------------------------------------------------------------------------------------"
   ]
  },
  {
   "cell_type": "markdown",
   "metadata": {},
   "source": [
    "# Overview:\n",
    "In this tutorial, we learn how to use the fundamental components of the traffic simulator named `__basik__`. The names seems appropriate for three reasons: \n",
    "   1. The simulator was made with the intention of providing a simple and basic interface.\n",
    "   2. The underlying mechanism is based on vehicles moving between nodes. Hence, movement is not truly continuous \n",
    "      but of a discrete and more basic nature. However, given that the nodes are not spaced too far apart (fine\n",
    "      grained); one can expect a good approximation of movement in continuous space.\n",
    "   3. The simulator provides display capabilties if it is run in a console and not an Ipython or Jupyter Notebook.\n",
    "      The display components use Python's Matplotlib.pyplot library which is intended for producing scientific\n",
    "      plots of a static nature. Hence, the display components are of a very basic nature but satisfactory enough\n",
    "      to prove that the underlying mechanism of the simulator works (`__basik__` is not lying). The display\n",
    "      components were also used during development for debugging purposes and can be used for further development\n",
    "      of the package. A display component will also be important to view the progress of various traffic\n",
    "      controllers.\n",
    "      \n",
    "Keep in mind that the purpose of `__basik__` is to provide training and testing data for traffic controllers based on Dynamic Programming (classical Markov Decision Process), Reinforcement Learning (Q-learning and Episodic Monte Carlo methods) as well as Planning algorithms (Monte Carlo Tree Search). Hence, its interface and functionality seeks to satisfy certain requirements of these algorithms as well. An example of this is the fact that algorithms such as Q-learning are based on one-step updates as one progresses through a sample trajectory. Thus it seems reasonable to be able to run the simulator for a single time-step in order to perform temporal-difference updates."
   ]
  },
  {
   "cell_type": "markdown",
   "metadata": {},
   "source": [
    "## Importing \n",
    "The first step in using the simulator would be to import it. We would like to make adopt the standard of importing it as `bk`. "
   ]
  },
  {
   "cell_type": "code",
   "execution_count": 1,
   "metadata": {},
   "outputs": [
    {
     "name": "stderr",
     "output_type": "stream",
     "text": [
      "/home/dylan/Documents/Basik_Tutorial/__basik__/__init__.py:37: UserWarning: __basik__ has picked up that it is currently being run from within a Ipython or Jupyter Notebook. Display components requireQtA5gg to render. Most Ipython-based interactive notebooks havetheir kernel shut down when using QtA5gg as a Matplotlib backend. Hence, __basik__ will not use QtA5gg. As a result, please refrain from using __basik__ display components while in the Ipython or Jupyter Notebook environment. If display components are required, please use Ipython in a console. The Spyder IDE for Python is highly recommended.\n",
      "  warnings.warn(message)\n"
     ]
    },
    {
     "name": "stdout",
     "output_type": "stream",
     "text": [
      "Importing matplotlib.pyplot as plt\n",
      "\n"
     ]
    }
   ],
   "source": [
    "import __basik__ as bk"
   ]
  },
  {
   "cell_type": "markdown",
   "metadata": {},
   "source": [
    "Note that a warning message is provided when running `__basik__` in an Ipython Notebook. We will work around this issue in the following tutorials where we use display components by playing videos of the display components in action. Also notice that Matplotlib has already been imported. **Do NOT** import it again. `__basik__` attempts to\n",
    "import it with the backend setting that best suits it.\n",
    "\n",
    "`__basik__` has various sub-modules that contain several functions. We do not make use of all these functions. Instead, we provide only what is relevant for the user to perform simulations. To access a list of all the functions provided by simply importing `__basik__` do as follows."
   ]
  },
  {
   "cell_type": "code",
   "execution_count": 2,
   "metadata": {},
   "outputs": [
    {
     "data": {
      "text/plain": [
       "[<module 'matplotlib.pyplot' from '/home/dylan/anaconda3/lib/python3.7/site-packages/matplotlib/pyplot.py'>,\n",
       " __basik__.global_queue.GlobalQueue,\n",
       " __basik__.node.Node,\n",
       " __basik__.RoadObject.lane.Lane,\n",
       " __basik__.RoadObject.road_display.RoadDisplay,\n",
       " __basik__.VehicleObject.vehicle.Vehicle,\n",
       " __basik__.VehicleObject.vehicle_display.VehicleDisplay,\n",
       " __basik__.CircleObject.circle.Circle,\n",
       " __basik__.CircleObject.circle_display.CircleDisplay,\n",
       " __basik__.FlaredTrafficLightObject.flared_traffic_light.FlaredTrafficLight,\n",
       " __basik__.FlaredTrafficLightObject.flared_traffic_light_cycle.FlaredTrafficLightCycle,\n",
       " __basik__.TrafficLightObject.traffic_light.TrafficLight,\n",
       " __basik__.TrafficLightObject.traffic_light_cycle.TrafficLightCycle,\n",
       " __basik__.OffRampObject.off_ramp.OffRamp,\n",
       " __basik__.OffRampObject.off_ramp_display.OffRampDisplay,\n",
       " __basik__.OnRampObject.on_ramp.OnRamp,\n",
       " __basik__.OnRampObject.on_ramp_display.OnRampDisplay,\n",
       " __basik__.IntersectionObject.intersection.Intersection,\n",
       " __basik__.IntersectionObject.intersection_display.IntersectionDisplay,\n",
       " __basik__.PedestrianCrossingObject.pedestrian_crossing.PedestrianCrossing,\n",
       " __basik__.PedestrianCrossingObject.pedestrian_crossing_display.PedestrianCrossingDisplay,\n",
       " __basik__.StopStreetObject.stop_street.StopStreet,\n",
       " __basik__.StopStreetObject.stop_street_display.StopStreetDisplay,\n",
       " __basik__.source.Source,\n",
       " <function __basik__.source.MMPP_rate_schedule(Q: 'array(N,N)', Rates: 'array(N)', end_time: float, start_time: float = 0, pi: 'array(N)' = None)>,\n",
       " __basik__.source.Rate,\n",
       " <function __basik__.source.reset_source_count(count=0)>,\n",
       " __basik__.record.Record,\n",
       " __basik__.obstruction.Obstruction,\n",
       " __basik__.simulation_session.Session,\n",
       " Queue (0x7f131b5ec9d0),\n",
       " <module '__basik__.FlowFunctions' from '/home/dylan/Documents/Basik_Tutorial/__basik__/FlowFunctions/__init__.py'>,\n",
       " <function __basik__.utils.axes_grid(n_row: int, n_col: int, scale=1)>,\n",
       " <function __basik__.utils.fill_axes_grid(AxesSubplotArray: numpy.ndarray, image_path_name: str = '__basik__/Images/crop1.jpg')>,\n",
       " <function __basik__.utils.load_csv(file_name)>,\n",
       " <function __basik__.utils.load_pickle(file_name)>]"
      ]
     },
     "execution_count": 2,
     "metadata": {},
     "output_type": "execute_result"
    }
   ],
   "source": [
    "bk.__all__"
   ]
  },
  {
   "cell_type": "markdown",
   "metadata": {},
   "source": [
    "## How `__basik__` runs\n",
    "The simulator has an environemnt that consists of tracks built by interconned nodes (see `__basik__.node.Node`). These nodes are the building blocks of the physical space to be traversed. Vehicles are produces by sources (see `__basik__.source.Source`). This allows them to be part of the simulator. A vehicle is an agent that is capable of very basic planning such as looking ahead to adapt velocity and performing manuvers such as breaking in order to avoid collisions (collisions are not possible in the simulator). Once the vehicle has moved form one node to the next (or been delayed in which case it may remain in the current node) then it will immediately plan its next move that will occur at some time in the future.\n",
    "\n",
    "There are usually several vehicles present in the simulator (each performing moves and planning their next). These functions need to occur in some logical manner. We have adopted the following recipe.\n",
    "\n",
    "   1. Vehicles are given a time-stamp of when their arrival onto the simulator will occur. This vehicles is then placed in a data structure known as a priority queue or binary heap. It allows for $\\mathcal{O(1)}$ access of the smallest component. In this case components are ordered by their time-stamps. Hence earliest scheduled events occur first.\n",
    "   2. From then on, vehicles (or other events with time-stamps such as crossing of pedestrians or a change in the signal of traffic lights) are extracted from the heap. In the case of a vehicle, the scheduled move is perfomed. It will then immediately schedule its next move which updates its time-stamp. The vehicle is the placed back into the priority queue (see `__basik__.global_queue.GlobalQueue`)\n",
    "\n",
    "These steps are formed using a `while` loop until some criteria is met: the allotted time of the simulation has been used or the priority queue is empty and their simply are no more events to occur. This recipe provides the heart of the engine that drives the simulator."
   ]
  },
  {
   "cell_type": "markdown",
   "metadata": {},
   "source": [
    "## Running our first simulation:\n",
    "We will be making use of a\n",
    "   1. Source. This will also require a rate function.\n",
    "   2. Global Queue (there is only one priority queue that all events share).\n",
    "   3. Vehicles.\n",
    "   4. A lane for vehicles to move along.\n",
    "   5. An object that records the movement of vehicles accross some point/node.\n",
    "   "
   ]
  },
  {
   "cell_type": "markdown",
   "metadata": {},
   "source": [
    "#### Step 1: Create a lane\n",
    "This is the object along which vehicles will move along. Sources will be attached to it as well as Record objects."
   ]
  },
  {
   "cell_type": "code",
   "execution_count": 3,
   "metadata": {},
   "outputs": [
    {
     "name": "stdout",
     "output_type": "stream",
     "text": [
      "The road is 29.25 meters long\n"
     ]
    }
   ],
   "source": [
    "lane = bk.Lane(length=10)  # 10 nodes long\n",
    "# We might want to know how long in meters this lane is\n",
    "print('The road is {0} meters long'.format(lane.distance))"
   ]
  },
  {
   "cell_type": "markdown",
   "metadata": {},
   "source": [
    "The lane has 10 nodes. Its two end nodes can be accessed."
   ]
  },
  {
   "cell_type": "code",
   "execution_count": 4,
   "metadata": {},
   "outputs": [
    {
     "name": "stdout",
     "output_type": "stream",
     "text": [
      "The in-nodes\n",
      "in-node:  Node (0x7f1315c96310)\n",
      "also in-node:  Node (0x7f1315c96310)\n",
      "Are the two the same:  True\n",
      "\n",
      "The out-nodes\n",
      "out-node:  Node (0x7f1315c96550)\n",
      "also out-node:  Node (0x7f1315c96550)\n",
      "Are the two the same:  True\n"
     ]
    }
   ],
   "source": [
    "print('The in-nodes')\n",
    "print('in-node: ',lane.IN)\n",
    "print('also in-node: ',lane.in_node)\n",
    "print('Are the two the same: ',lane.IN is lane.in_node)\n",
    "print('\\nThe out-nodes')\n",
    "print('out-node: ',lane.OUT)\n",
    "print('also out-node: ',lane.out_node)\n",
    "print('Are the two the same: ',lane.OUT is lane.out_node)"
   ]
  },
  {
   "cell_type": "markdown",
   "metadata": {},
   "source": [
    "These are not the only nodes that can be accessed but they are the most important. Other nodes can also be accessed."
   ]
  },
  {
   "cell_type": "code",
   "execution_count": 5,
   "metadata": {},
   "outputs": [
    {
     "name": "stdout",
     "output_type": "stream",
     "text": [
      "All the nodes in the lane:\n",
      "[Node (0x7f1315c96310), Node (0x7f1315d01fd0), Node (0x7f1315c96350), Node (0x7f1315c963d0), Node (0x7f1315c96410), Node (0x7f1315c96450), Node (0x7f1315c96490), Node (0x7f1315c964d0), Node (0x7f1315c96510), Node (0x7f1315c96550)]\n"
     ]
    }
   ],
   "source": [
    "print('All the nodes in the lane:')\n",
    "print(lane.nodes)"
   ]
  },
  {
   "cell_type": "markdown",
   "metadata": {},
   "source": [
    "#### Step 2: Create a rate schedule\n",
    "This is a dictionary of rate functions. It models the rate intensity of an Exponential process. The dictionary contains the time at which the schedule ends and the actual function. This allows for the arrival rate of vehicles\n",
    "to be of a non-stationary nature by allowing it to change at various known times.\n",
    "Recall that the arrival rate of an Exponential Process is the reciprocal of the the mean inter-arrival time. Hence a rate of 0.1 is equivalent to a mean inter-arrival time of 10 seconds."
   ]
  },
  {
   "cell_type": "code",
   "execution_count": 6,
   "metadata": {},
   "outputs": [
    {
     "data": {
      "text/plain": [
       "Source (ID:0)"
      ]
     },
     "execution_count": 6,
     "metadata": {},
     "output_type": "execute_result"
    }
   ],
   "source": [
    "T = 20 # the time in seconds that the simulator will run until.\n",
    "# We need a rate schedule. \n",
    "rate_schedule = {10:bk.Rate(0.5), # 1/0.5 = 2 second inter-arrival time\n",
    "                 20:bk.Rate(0.2)} # 1/0.2 = 5 second inter-arrival time\n",
    "# We create the source and attach it to an in-node. \n",
    "# Notice that we specify the speed at which vehicles from this source will travel at.\n",
    "source = bk.Source(vehicle_velocity=16.67, # meters per second which is about 60 km/h\n",
    "                   target_node=lane.IN,\n",
    "                   rate_schedule=rate_schedule)\n",
    "source  # this will display the source and its unique ID"
   ]
  },
  {
   "cell_type": "markdown",
   "metadata": {},
   "source": [
    "#### Step 3: Schedule all the arrivals\n",
    "The source object has been made but it still has not placed any vehicle arrivals into the global priority queue yet."
   ]
  },
  {
   "cell_type": "code",
   "execution_count": 7,
   "metadata": {},
   "outputs": [
    {
     "name": "stdout",
     "output_type": "stream",
     "text": [
      "Setting up arrivals...\n",
      "..done!\n"
     ]
    }
   ],
   "source": [
    "import numpy as np  # __basik__ uses its pseudo random number generator\n",
    "np.random.seed(123)  # set the random number generator to the same state. This allows random results to be repliacted.\n",
    "print('Setting up arrivals...')\n",
    "source.setup_arrivals(T)  # this might be a bit slow\n",
    "print('..done!')"
   ]
  },
  {
   "cell_type": "markdown",
   "metadata": {},
   "source": [
    "**Note:** thus far we have not created a priority queue object yet. `__basik__` handles this for us in order to avoid scenarios where multiple queues are being used by different sub-modules. When `__basik__` was imported it created a queue and put it into the namespace of all the sub-modules that make use of it. It was also placed into the global namespace of the current Python environment (i.e. `__main__`). We have a look at this queue."
   ]
  },
  {
   "cell_type": "code",
   "execution_count": 8,
   "metadata": {},
   "outputs": [
    {
     "data": {
      "text/plain": [
       "Queue (0x7f131b5ec9d0)"
      ]
     },
     "execution_count": 8,
     "metadata": {},
     "output_type": "execute_result"
    }
   ],
   "source": [
    "bk.Queue"
   ]
  },
  {
   "cell_type": "markdown",
   "metadata": {},
   "source": [
    "We show that the Queue is where it needs to be and that it is indeed that same queue."
   ]
  },
  {
   "cell_type": "code",
   "execution_count": 9,
   "metadata": {},
   "outputs": [
    {
     "name": "stdout",
     "output_type": "stream",
     "text": [
      "Is in global namespace:  True\n",
      "Is in current Python environment:  True\n",
      "Is in use by the vehicles sub-module:  True\n",
      "Is in use by the node sub-module:  True\n"
     ]
    }
   ],
   "source": [
    "import __main__\n",
    "print('Is in global namespace: ',bk.Queue is globals()['Queue'])\n",
    "print('Is in current Python environment: ',bk.Queue is __main__.Queue)\n",
    "print('Is in use by the vehicles sub-module: ',bk.Queue is bk.VehicleObject.vehicle.Queue)\n",
    "print('Is in use by the node sub-module: ',bk.Queue is bk.node.Queue)"
   ]
  },
  {
   "cell_type": "markdown",
   "metadata": {},
   "source": [
    "We can have a look at the content of the Queue. Note that it may not look like the arrivals are in strictly increasing order. This is because from a linear left-to-right perspective (such as that of a list) they are not. However, we are viewing a binary heap. This is not a linear structure. One can rest assured that the object with the smallest time-stamp will always be extracted. Furthermore, notice that all vehicles are still in the arrival phase at the simulator has not yet bee run."
   ]
  },
  {
   "cell_type": "code",
   "execution_count": 10,
   "metadata": {},
   "outputs": [
    {
     "name": "stdout",
     "output_type": "stream",
     "text": [
      "[Arrival (2.3845), Arrival (2.8991), Arrival (5.439), Arrival (6.5392), Arrival (7.5976), Arrival (8.909), Arrival (9.9341), Arrival (12.5457), Arrival (13.1071), Arrival (14.1223), Arrival (16.1205), Arrival (16.5063), Arrival (18.9982), Arrival (19.7052)]\n"
     ]
    }
   ],
   "source": [
    "print(bk.Queue.content)"
   ]
  },
  {
   "cell_type": "markdown",
   "metadata": {},
   "source": [
    "#### Step 4: place a record object somewhere\n",
    "This object can be placed anywhere on the lane. For convenience we place it at the end of the lane."
   ]
  },
  {
   "cell_type": "code",
   "execution_count": 11,
   "metadata": {},
   "outputs": [],
   "source": [
    "record = bk.Record(node=lane.OUT)"
   ]
  },
  {
   "cell_type": "markdown",
   "metadata": {},
   "source": [
    "#### Step 5: We can now run the simulation\n",
    "Recall that we mentioned that the priority queue provides the basic engine for driving forward the machinery of the simulation. As a result, the queue contains the `run` method."
   ]
  },
  {
   "cell_type": "code",
   "execution_count": 12,
   "metadata": {},
   "outputs": [
    {
     "name": "stdout",
     "output_type": "stream",
     "text": [
      "Time:  3.3944704934698877\n",
      "Time:  4.508716614570043\n",
      "Time:  6.539178847449172\n",
      "Time:  7.597580255644587\n",
      "Time:  8.909020642466324\n",
      "Time:  9.846753630462628\n",
      "Time:  10.472655711613523\n",
      "Time:  12.753791995790106\n",
      "Time:  13.940406014566554\n",
      "Time:  14.67227320289839\n",
      "Time:  15.999735810395503\n",
      "Time:  17.104813716140974\n",
      "Time:  18.504335663109217\n",
      "Time:  19.932550734569038\n"
     ]
    }
   ],
   "source": [
    "bk.Queue.run(T,print_time=True,print_count=10)"
   ]
  },
  {
   "cell_type": "markdown",
   "metadata": {},
   "source": [
    "We can also inspect the contents of the queue after the simulation."
   ]
  },
  {
   "cell_type": "code",
   "execution_count": 13,
   "metadata": {},
   "outputs": [
    {
     "data": {
      "text/plain": [
       "[Vehicle (20.3081), Vehicle (20.4424)]"
      ]
     },
     "execution_count": 13,
     "metadata": {},
     "output_type": "execute_result"
    }
   ],
   "source": [
    "bk.Queue.content"
   ]
  },
  {
   "cell_type": "markdown",
   "metadata": {},
   "source": [
    "We can now inspect the time-stamps of the record object. Each time-stamp is a passing vehicle. We can also have a look at the actual vehicles that have been recorded."
   ]
  },
  {
   "cell_type": "code",
   "execution_count": 14,
   "metadata": {},
   "outputs": [
    {
     "name": "stdout",
     "output_type": "stream",
     "text": [
      "time-stamps:\n",
      "[3.45235357240836, 4.732040354749212, 7.374540294295116, 8.538409107873697, 9.846753630462628, 10.598729821027272, 11.567184106467625, 14.231920936909388, 14.67227320289839, 15.999735810395503, 17.68228425490529, 18.642904277755008]\n",
      "\n",
      "Vehicles:\n",
      "[Vehicle (3.4524), Vehicle (4.732), Vehicle (7.3745), Vehicle (8.5384), Vehicle (9.8468), Vehicle (10.5987), Vehicle (11.5672), Vehicle (14.2319), Vehicle (14.6723), Vehicle (15.9997), Vehicle (17.6823), Vehicle (18.6429)]\n"
     ]
    }
   ],
   "source": [
    "print('time-stamps:')\n",
    "print(record.time_stamps)\n",
    "print('\\nVehicles:')\n",
    "print(record.vehicles)"
   ]
  },
  {
   "cell_type": "markdown",
   "metadata": {},
   "source": [
    "We might not be interested in time-stamps. Time-stamps are the most raw form of data. In the future, we will be interested in creating probabilistic models to estimate arrival rates based in inter-arrival time. Inter-arrival times are just intervals between time-stamps. \n",
    "We provide a convenient function extract intervals."
   ]
  },
  {
   "cell_type": "code",
   "execution_count": 15,
   "metadata": {},
   "outputs": [
    {
     "name": "stdout",
     "output_type": "stream",
     "text": [
      "Intervals:\n",
      "[3.45235357 1.27968678 2.64249994 1.16386881 1.30834452 0.75197619\n",
      " 0.96845429 2.66473683 0.44035227 1.32746261 1.68254844 0.96062002]\n"
     ]
    }
   ],
   "source": [
    "record.process_records(start_time=0)\n",
    "print('Intervals:')\n",
    "print(record.intervals)"
   ]
  },
  {
   "cell_type": "markdown",
   "metadata": {},
   "source": [
    "One can consult the documentation of the record object by using the Python `help` function (e.g. `help(record)`) to understand the `start_time` argument further. Briefly, if one has $n$ time-stamps then there are $n-1$ intervals unless one specifies a start time. A start time will serve as an additional time-stamp and allow for $n$ intervals. Setting `start_time=None` will only return the $n-1$ intervals between vehicles. "
   ]
  },
  {
   "cell_type": "code",
   "execution_count": 16,
   "metadata": {},
   "outputs": [
    {
     "name": "stdout",
     "output_type": "stream",
     "text": [
      "Intervals:\n",
      "[1.27968678 2.64249994 1.16386881 1.30834452 0.75197619 0.96845429\n",
      " 2.66473683 0.44035227 1.32746261 1.68254844 0.96062002]\n"
     ]
    }
   ],
   "source": [
    "record.process_records(start_time=None)\n",
    "print('Intervals:')\n",
    "print(record.intervals)"
   ]
  },
  {
   "cell_type": "markdown",
   "metadata": {},
   "source": [
    "We can plot the data/time-stamps/intervals manually using many of Pythons visualisation libraries. We do, however, include a convenient stem plot function."
   ]
  },
  {
   "cell_type": "code",
   "execution_count": 17,
   "metadata": {},
   "outputs": [
    {
     "name": "stderr",
     "output_type": "stream",
     "text": [
      "/home/dylan/Documents/Basik_Tutorial/__basik__/record.py:432: UserWarning: Matplotlib is currently using module://ipykernel.pylab.backend_inline, which is a non-GUI backend, so cannot show the figure.\n",
      "  self.figure.show()\n"
     ]
    },
    {
     "data": {
      "image/png": "[encoded data removed]",
      "text/plain": [
       "<Figure size 576x396 with 1 Axes>"
      ]
     },
     "metadata": {},
     "output_type": "display_data"
    }
   ],
   "source": [
    "%matplotlib inline\n",
    "plt.style.use('seaborn')\n",
    "record.stem_plot(start_time=None)"
   ]
  },
  {
   "cell_type": "markdown",
   "metadata": {},
   "source": [
    "## Running the simulation again\n",
    "`__basik__` does allow for the same simulation setup to be run again. It is up to the user whether they would like to continue the old simulation or whether they would like to start over again. "
   ]
  },
  {
   "cell_type": "markdown",
   "metadata": {},
   "source": [
    "#### Running a new simulation\n",
    "This scenario might be preferred if one would like to run the environment with entirely new source setups and arrival schedules. Hence, clearing all existing events would make sense."
   ]
  },
  {
   "cell_type": "code",
   "execution_count": 18,
   "metadata": {},
   "outputs": [
    {
     "name": "stdout",
     "output_type": "stream",
     "text": [
      "Setting up arrivals...\n",
      "...done!\n",
      "Simulation started...\n",
      "...done!\n"
     ]
    }
   ],
   "source": [
    "# The most important step of this variant is to clear the Queue.\n",
    "# This removes all simulation events as well as vehicles present .\n",
    "bk.Queue.clear()\n",
    "np.random.seed(123)\n",
    "# Create schedule\n",
    "long_schedule = {400:bk.Rate(0.01),\n",
    "                 500:bk.Rate(0.1),\n",
    "                 1000:bk.Rate(0.01)}\n",
    "# Create source object\n",
    "new_source = bk.Source(vehicle_velocity=16.67,\n",
    "                       target_node=lane.IN,\n",
    "                       rate_schedule=long_schedule)\n",
    "# Setup the arrivals (don't forget this step)\n",
    "print('Setting up arrivals...')\n",
    "new_source.setup_arrivals(end_time=1200,\n",
    "                         start_time=0)\n",
    "print('...done!')\n",
    "record.clear() # clear the existing record object instead of creating a new one\n",
    "print('Simulation started...')\n",
    "bk.Queue.run(end_time=1000,\n",
    "             start_time=0,\n",
    "             print_time=False) # every nth event it will print a time\n",
    "print('...done!')"
   ]
  },
  {
   "cell_type": "markdown",
   "metadata": {},
   "source": [
    "We can view the `stem_plot` as before"
   ]
  },
  {
   "cell_type": "code",
   "execution_count": 19,
   "metadata": {},
   "outputs": [
    {
     "data": {
      "image/png": "[encoded data removed]",
      "text/plain": [
       "<Figure size 576x396 with 1 Axes>"
      ]
     },
     "execution_count": 19,
     "metadata": {},
     "output_type": "execute_result"
    }
   ],
   "source": [
    "#new_record.time_stamps\n",
    "record.process_records()  # important step to produce intervals attribute.\n",
    "record.stem_plot()\n",
    "record.figure  # shows output in a Jupyter-notebook or Ipython console."
   ]
  },
  {
   "cell_type": "markdown",
   "metadata": {},
   "source": [
    "A histogram can also be manually plotted from the `intervals` attribute. "
   ]
  },
  {
   "cell_type": "code",
   "execution_count": 20,
   "metadata": {},
   "outputs": [
    {
     "data": {
      "image/png": "[encoded data removed]",
      "text/plain": [
       "<Figure size 576x396 with 1 Axes>"
      ]
     },
     "metadata": {},
     "output_type": "display_data"
    }
   ],
   "source": [
    "plt.hist(x=record.intervals,\n",
    "        bins=50,\n",
    "        density=True) # this makes the area sum up to one as in a p.d.f.\n",
    "plt.xlabel('inter-arrival times')\n",
    "plt.ylabel('probability density')\n",
    "plt.title('Simulated probability density of inter-arrival times')\n",
    "plt.show()"
   ]
  },
  {
   "cell_type": "markdown",
   "metadata": {},
   "source": [
    "We observe the histogram to be multi-modal."
   ]
  },
  {
   "cell_type": "markdown",
   "metadata": {},
   "source": [
    "#### Continuing a simulation\n",
    "This scenario is more likely than restarting a simulation (existing information always has value). One might wish to continue a simulation for various reasons. We mention a three:\n",
    "\n",
    "   1. The record object does not contain a satisfactory amount of information to perform analysis.\n",
    "   2. The first run of the simulation may have been intended to fill the simulation with vehicles. The simulator will exhibit odd transient behaviour in this \"burn-in\" phase. We can then clear the record objects and run the simulator again. \n",
    "   3. One might want to create a scenario where there is a rapid change in the dyanmics of the simulation i.e. an accident. The second simulation can then be implemented with the new dynamics. This is useful of one would like to produce a data-set to assess how adaptive a traffic controller might be.\n",
    "   \n",
    "It should be mentioned that one would like to know what `start_time` to use for the new arrivals as well as for running the simulation. For setting up new arrivals, it seems reasonable to consult the simulator on when the last arrival is due to occur or when the last arrival occurred (given that there are no more arrivals to occur in the global queue). The simulator has a single attribute that handles this.\n"
   ]
  },
  {
   "cell_type": "code",
   "execution_count": 21,
   "metadata": {},
   "outputs": [
    {
     "data": {
      "text/plain": [
       "1174.665832981833"
      ]
     },
     "execution_count": 21,
     "metadata": {},
     "output_type": "execute_result"
    }
   ],
   "source": [
    "bk.Queue.latest_arrival_time"
   ]
  },
  {
   "cell_type": "markdown",
   "metadata": {},
   "source": [
    "The `start_time` of `run` in `bk.Queue` should be chosen as the time when the simulator was last seen active (processing an event). We access it as follows:"
   ]
  },
  {
   "cell_type": "code",
   "execution_count": 22,
   "metadata": {},
   "outputs": [
    {
     "data": {
      "text/plain": [
       "1007.6521842571179"
      ]
     },
     "execution_count": 22,
     "metadata": {},
     "output_type": "execute_result"
    }
   ],
   "source": [
    "bk.Queue.current_time"
   ]
  },
  {
   "cell_type": "markdown",
   "metadata": {},
   "source": [
    "We are now equipped with the necessary information to continue a simualtion."
   ]
  },
  {
   "cell_type": "code",
   "execution_count": 23,
   "metadata": {},
   "outputs": [
    {
     "name": "stdout",
     "output_type": "stream",
     "text": [
      "Setting up arrivals...\n",
      "...done!\n",
      "Simulation started...\n",
      "...done!\n"
     ]
    },
    {
     "name": "stderr",
     "output_type": "stream",
     "text": [
      "/home/dylan/Documents/Basik_Tutorial/__basik__/global_queue.py:265: UserWarning: Simulation ended!self.Q is empty. No more events exist in this simulation.\n",
      "  warnings.warn(message)\n"
     ]
    }
   ],
   "source": [
    "#bk.Queue.clear()  # DO NOT CLEAR THE QUEUE\n",
    "np.random.seed(123)\n",
    "start_source = bk.Queue.latest_arrival_time\n",
    "start_simulation = bk.Queue.current_time\n",
    "# Create schedule\n",
    "t1 = start_source + 300  # this is an end_time\n",
    "t2 = t1 + 100\n",
    "long_schedule = {t1:bk.Rate(0.005),  # interval: [start_time,t1]\n",
    "                 t2:bk.Rate(0.01)}   # interval: [t1,t2]\n",
    "# Create source object\n",
    "new_source = bk.Source(vehicle_velocity=16.67,\n",
    "                       target_node=lane.IN,\n",
    "                       rate_schedule=long_schedule)\n",
    "# Setup the arrivals (don't forget this step)\n",
    "print('Setting up arrivals...')\n",
    "arrival_duration = 300 + 100\n",
    "new_source.setup_arrivals(end_time=start_source+arrival_duration,  \n",
    "                         start_time=start_source)\n",
    "print('...done!')\n",
    "# NB !!!!: Below one will only clear the record if the first simulation was intended\n",
    "# to populate the simulator and skip the transient phase.\n",
    "# If one wishes to gain more information then we do not clear it. We comment it out.\n",
    "#record.clear()\n",
    "print('Simulation started...')\n",
    "# If we would like the simulator to run until there are no more events available the\n",
    "# we set end_time to np.inf\n",
    "bk.Queue.run(end_time=np.inf,\n",
    "             start_time=start_simulation,\n",
    "             print_time=False) # every nth event it will print a time\n",
    "print('...done!')"
   ]
  },
  {
   "cell_type": "code",
   "execution_count": 24,
   "metadata": {},
   "outputs": [
    {
     "data": {
      "image/png": "[encoded data removed]",
      "text/plain": [
       "<Figure size 576x396 with 1 Axes>"
      ]
     },
     "execution_count": 24,
     "metadata": {},
     "output_type": "execute_result"
    }
   ],
   "source": [
    "record.stem_plot()\n",
    "record.figure"
   ]
  },
  {
   "cell_type": "markdown",
   "metadata": {},
   "source": [
    "# Saving data from the source\n",
    "The purpose of the simulator is to produce re-useable datatsets. Hence the record object is quite important. In the next tutorial, we will see that a record can be converted into a source object as well. This means that a simulation can power another simulation or that a large simulation can be broken into smaller one.\n",
    "\n",
    "For now, our interest mainly lies in saving the data in a convenient form. We provide two options.\n",
    "\n",
    "1. CSV-file: saves only time-series values whether it be intervals or time-stamps.\n",
    "2. Serialised object/Pickle byte code file: we save the actual record object with all its data in a `.pkl` file. This is essentially byte code. This means that the record object can be completely recovered as it once was. \n"
   ]
  },
  {
   "cell_type": "markdown",
   "metadata": {},
   "source": [
    "### CSV file"
   ]
  },
  {
   "cell_type": "code",
   "execution_count": 25,
   "metadata": {},
   "outputs": [
    {
     "name": "stdout",
     "output_type": "stream",
     "text": [
      "Files in the current directory:\n",
      "1) __basik__\n",
      "2) time_stamps.csv\n",
      "3) intervals.csv\n",
      "4) pickled_record.pkl\n",
      "5) .ipynb_checkpoints\n",
      "6) Tutorial 1 - heaps, sources, vehicles, lanes and record objects..ipynb\n"
     ]
    }
   ],
   "source": [
    "import os  # we will use it to get the current working directory.\n",
    "\n",
    "# 1)\n",
    "# We first create a csv file that contains the intervals as plotted above.\n",
    "# Recall that these are vehicle inter-arrival times.\n",
    "name = '/intervals.csv' # NOTE: the extension is not neccessary as __basik__ will add it if \n",
    "                        # it detects that it is indeed missing.\n",
    "                        # NOTE: the forward slash is quite important.\n",
    "path_name = os.getcwd() + name  # we have a valid path name with a valid extension\n",
    "record.save(path_name,\n",
    "           method='csv',\n",
    "           intervals=True)\n",
    "\n",
    "# 2)\n",
    "# We now create a csv file containing only the time-stamps\n",
    "name = '/time_stamps.csv'\n",
    "path_name = os.getcwd() + name\n",
    "record.save(path_name,\n",
    "           method='csv',\n",
    "           intervals=False)  # We want time-stamps\n",
    "\n",
    "print('Files in the current directory:')\n",
    "for idx,file_name in enumerate(os.listdir()):\n",
    "    print('{0}) {1}'.format(idx+1,file_name))"
   ]
  },
  {
   "cell_type": "markdown",
   "metadata": {},
   "source": [
    "### Serialised/Pickled record object"
   ]
  },
  {
   "cell_type": "code",
   "execution_count": 26,
   "metadata": {},
   "outputs": [
    {
     "name": "stdout",
     "output_type": "stream",
     "text": [
      "Files in the current directory:\n",
      "1) __basik__\n",
      "2) time_stamps.csv\n",
      "3) intervals.csv\n",
      "4) pickled_record.pkl\n",
      "5) .ipynb_checkpoints\n",
      "6) Tutorial 1 - heaps, sources, vehicles, lanes and record objects..ipynb\n"
     ]
    }
   ],
   "source": [
    "name = '/pickled_record.pkl'\n",
    "path_name = os.getcwd() + name\n",
    "record.save(path_name,\n",
    "           method='pickle')\n",
    "print('Files in the current directory:')\n",
    "for idx,file_name in enumerate(os.listdir()):\n",
    "    print('{0}) {1}'.format(idx+1,file_name))"
   ]
  },
  {
   "cell_type": "markdown",
   "metadata": {},
   "source": [
    "# Loading/Reloading\n",
    "This can be done manually via a variety of methods in Python. However, `__basik__` does contain two convenient functions to load a `.csv` or `.pkl` file.\n"
   ]
  },
  {
   "cell_type": "code",
   "execution_count": 30,
   "metadata": {},
   "outputs": [
    {
     "data": {
      "text/html": [
       "<div>\n",
       "<style scoped>\n",
       "    .dataframe tbody tr th:only-of-type {\n",
       "        vertical-align: middle;\n",
       "    }\n",
       "\n",
       "    .dataframe tbody tr th {\n",
       "        vertical-align: top;\n",
       "    }\n",
       "\n",
       "    .dataframe thead th {\n",
       "        text-align: right;\n",
       "    }\n",
       "</style>\n",
       "<table border=\"1\" class=\"dataframe\">\n",
       "  <thead>\n",
       "    <tr style=\"text-align: right;\">\n",
       "      <th></th>\n",
       "      <th>intervals</th>\n",
       "    </tr>\n",
       "  </thead>\n",
       "  <tbody>\n",
       "    <tr>\n",
       "      <th>0</th>\n",
       "      <td>120.956563</td>\n",
       "    </tr>\n",
       "    <tr>\n",
       "      <th>1</th>\n",
       "      <td>25.799950</td>\n",
       "    </tr>\n",
       "    <tr>\n",
       "      <th>2</th>\n",
       "      <td>126.709797</td>\n",
       "    </tr>\n",
       "    <tr>\n",
       "      <th>3</th>\n",
       "      <td>55.303414</td>\n",
       "    </tr>\n",
       "    <tr>\n",
       "      <th>4</th>\n",
       "      <td>52.765205</td>\n",
       "    </tr>\n",
       "    <tr>\n",
       "      <th>...</th>\n",
       "      <td>...</td>\n",
       "    </tr>\n",
       "    <tr>\n",
       "      <th>56</th>\n",
       "      <td>19.997731</td>\n",
       "    </tr>\n",
       "    <tr>\n",
       "      <th>57</th>\n",
       "      <td>28.746672</td>\n",
       "    </tr>\n",
       "    <tr>\n",
       "      <th>58</th>\n",
       "      <td>72.334309</td>\n",
       "    </tr>\n",
       "    <tr>\n",
       "      <th>59</th>\n",
       "      <td>199.677972</td>\n",
       "    </tr>\n",
       "    <tr>\n",
       "      <th>60</th>\n",
       "      <td>39.443736</td>\n",
       "    </tr>\n",
       "  </tbody>\n",
       "</table>\n",
       "<p>61 rows × 1 columns</p>\n",
       "</div>"
      ],
      "text/plain": [
       "     intervals\n",
       "0   120.956563\n",
       "1    25.799950\n",
       "2   126.709797\n",
       "3    55.303414\n",
       "4    52.765205\n",
       "..         ...\n",
       "56   19.997731\n",
       "57   28.746672\n",
       "58   72.334309\n",
       "59  199.677972\n",
       "60   39.443736\n",
       "\n",
       "[61 rows x 1 columns]"
      ]
     },
     "execution_count": 30,
     "metadata": {},
     "output_type": "execute_result"
    }
   ],
   "source": [
    "data = bk.load_csv(file_name = os.getcwd() + '/intervals.csv')\n",
    "data\n"
   ]
  },
  {
   "cell_type": "code",
   "execution_count": 33,
   "metadata": {},
   "outputs": [
    {
     "data": {
      "text/plain": [
       "Record (0x7f13137d8c10) at Node (0x7f13136d8950)"
      ]
     },
     "execution_count": 33,
     "metadata": {},
     "output_type": "execute_result"
    }
   ],
   "source": [
    "cloned_record = bk.load_pickle(file_name = os.getcwd() + '/pickled_record.pkl')\n",
    "cloned_record"
   ]
  },
  {
   "cell_type": "markdown",
   "metadata": {},
   "source": [
    "# Conclusion\n",
    "This tutorial has provided the neccessary skills to use `__basik__` to peform simulations. In the next tutorial, we explore some of the more advanced features of the source and record objects."
   ]
  }
 ],
 "metadata": {
  "anaconda-cloud": {},
  "kernelspec": {
   "display_name": "Python 3",
   "language": "python",
   "name": "python3"
  },
  "language_info": {
   "codemirror_mode": {
    "name": "ipython",
    "version": 3
   },
   "file_extension": ".py",
   "mimetype": "text/x-python",
   "name": "python",
   "nbconvert_exporter": "python",
   "pygments_lexer": "ipython3",
   "version": "3.7.6"
  }
 },
 "nbformat": 4,
 "nbformat_minor": 2
}
